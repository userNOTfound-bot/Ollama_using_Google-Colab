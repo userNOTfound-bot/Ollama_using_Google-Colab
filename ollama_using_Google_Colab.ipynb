{
  "cells": [
    {
      "cell_type": "markdown",
      "metadata": {
        "id": "view-in-github",
        "colab_type": "text"
      },
      "source": [
        "<a href=\"https://colab.research.google.com/github/userNOTfound-bot/Ollama_using_Google-Colab/blob/main/ollama_using_Google_Colab.ipynb\" target=\"_parent\"><img src=\"https://colab.research.google.com/assets/colab-badge.svg\" alt=\"Open In Colab\"/></a>"
      ]
    },
    {
      "cell_type": "markdown",
      "source": [
        "# ⚠️ You must have ***Ollama*** installed in your system.\n",
        "If you didn't had that, then follow these steps to install that.\n",
        "\n",
        "Installation step:\n",
        "1. go to Ollama official website or use this redirect link https://ollama.com\n",
        "2. Click on the download button and choose your OS, then download & install.\n",
        "\n",
        "***Installing Ollama in your system is done.***"
      ],
      "metadata": {
        "id": "jl4dTEu5_aq5"
      }
    },
    {
      "cell_type": "code",
      "execution_count": null,
      "metadata": {
        "id": "PGaAhKv8fOtP"
      },
      "outputs": [],
      "source": [
        "#@title Install ollama on the host\n",
        "!curl https://ollama.ai/install.sh | sh"
      ]
    },
    {
      "cell_type": "code",
      "execution_count": null,
      "metadata": {
        "colab": {
          "background_save": true
        },
        "id": "ivpTRgcvfh36"
      },
      "outputs": [],
      "source": [
        "# @title Cloudflared-Tunnel to share Ollama publicly\n",
        "\n",
        "\n",
        "# Install cloudflared tunnel for public usage & dependencies for python script\n",
        "!wget -q https://github.com/cloudflare/cloudflared/releases/latest/download/cloudflared-linux-amd64.deb && dpkg -i cloudflared-linux-amd64.deb\n",
        "!cloudflared -v\n",
        "\n",
        "import os\n",
        "os.environ['OLLAMA_HOST'] = '0.0.0.0'\n",
        "import asyncio\n",
        "from aiohttp import ClientSession\n",
        "\n",
        "# Set LD_LIBRARY_PATH so the system NVIDIA library becomes preferred\n",
        "# over the built-in library. This is particularly important for\n",
        "# Google Colab which installs older drivers\n",
        "os.environ.update({'LD_LIBRARY_PATH': '/usr/lib64-nvidia'})\n",
        "\n",
        "async def run(cmd):\n",
        "  '''\n",
        "  run is a helper function to run subcommands asynchronously.\n",
        "  '''\n",
        "  print('>>> starting', *cmd)\n",
        "  p = await asyncio.subprocess.create_subprocess_exec(\n",
        "      *cmd,\n",
        "      stdout=asyncio.subprocess.PIPE,\n",
        "      stderr=asyncio.subprocess.PIPE,\n",
        "  )\n",
        "\n",
        "  async def pipe(lines):\n",
        "    async for line in lines:\n",
        "      print(line.strip().decode('utf-8'))\n",
        "\n",
        "  await asyncio.gather(\n",
        "      pipe(p.stdout),\n",
        "      pipe(p.stderr),\n",
        "  )\n",
        "\n",
        "# Print lines utf-8 encoded\n",
        "await asyncio.gather(\n",
        "    run(['ollama', 'serve']),\n",
        "    run(['cloudflared', 'tunnel', '--url', 'http://localhost:11434']),\n",
        ")\n"
      ]
    }
  ],
  "metadata": {
    "accelerator": "GPU",
    "colab": {
      "gpuType": "T4",
      "provenance": [],
      "name": "ollama_using_Google-Colab.ipynb",
      "authorship_tag": "ABX9TyMufLLvahHt1PlRo17xUi6i",
      "include_colab_link": true
    },
    "kernelspec": {
      "display_name": "Python 3",
      "name": "python3"
    },
    "language_info": {
      "name": "python"
    }
  },
  "nbformat": 4,
  "nbformat_minor": 0
}